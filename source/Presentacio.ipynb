{
 "cells": [
  {
   "cell_type": "markdown",
   "id": "185979fa",
   "metadata": {},
   "source": [
    "# Classificació de gestos\n",
    "\n",
    "## Introducció\n",
    "\n",
    "En aquesta pràctica buscarem el millor model de classificació que donades lectures de diferents sensors pugui classificar a quina clase de gest pertany. Tindrem 4 diferents gestos: pedra, tisores, paper i ok; i tindrem també 8 sensors dels quals farem 8 lectures per cada un d'ells.\n",
    "\n",
    "Començarem per analitzar les dades i les relacions entre elles, aplicarem les modificacions a les dades, posteriorment buscarem el millor model i buscarem els millors hiperparàmetres pel model seleccionat.\n",
    "\n",
    "## Anàlisi de dades\n",
    "\n",
    "Primer observarem les dades que tenim, com són. Abans de començar cal tenir en compte que ja s'ha fet una transformació de les dades, s'ha passat de les dades categòriques: pedra, tisores, paper i ok, a les dades: 0, 1, 2 i 3 respectivament. \n",
    "\n",
    "Així, com també analitzarem la quantitat de variables nules i també el tipus de dades i les estadístiques que tenim en el nostre conjunt de dades del dataset, .\n"
   ]
  },
  {
   "cell_type": "code",
   "execution_count": 2,
   "id": "9ca2324e",
   "metadata": {},
   "outputs": [
    {
     "name": "stdout",
     "output_type": "stream",
     "text": [
      "   Lect1-Sen1  Lect1-Sen2  Lect1-Sen3  Lect1-Sen4  Lect1-Sen5  Lect1-Sen6  \\\n",
      "0         260          40          50          80         -10        -130   \n",
      "1        -470         -60         -50         -70         130         -10   \n",
      "2        -190         -80         -80         -80        -210         -60   \n",
      "3          20          30           0          20           0         220   \n",
      "4          60           0           0         -20        -140         100   \n",
      "\n",
      "   Lect1-Sen7  Lect1-Sen8  Lect2-Sen1  Lect2-Sen2  ...  Lect7-Sen8  \\\n",
      "0       -1090        -660         -90          20  ...        -280   \n",
      "1         350        -100         100         -40  ...        -250   \n",
      "2        -790         120           0          50  ...        -830   \n",
      "3        1060        -140        -160         -20  ...        -380   \n",
      "4        -510          50          70           0  ...         380   \n",
      "\n",
      "   Lect8-Sen1  Lect8-Sen2  Lect8-Sen3  Lect8-Sen4  Lect8-Sen5  Lect8-Sen6  \\\n",
      "0         610          40          80          50          40         -70   \n",
      "1         470          60          60          50         130         210   \n",
      "2          70          70          10         -80          70         210   \n",
      "3        -110          40          70         110         330         390   \n",
      "4        -350         -80          20          60        -130        -240   \n",
      "\n",
      "   Lect8-Sen7  Lect8-Sen8  Forma  \n",
      "0        -590         160      0  \n",
      "1        1110         150      0  \n",
      "2        1140         480      0  \n",
      "3        1190         430      0  \n",
      "4       -1120        -690      0  \n",
      "\n",
      "[5 rows x 65 columns]\n"
     ]
    }
   ],
   "source": [
    "import pandas as pd\n",
    "def load_dataset(path):\n",
    "    dataset = pd.read_csv(path, header=0, delimiter=',')\n",
    "    return dataset\n",
    "\n",
    "dataset = load_dataset('../data/dades.csv')\n",
    "\n",
    "data = dataset.values\n",
    "\n",
    "print(dataset.head())"
   ]
  },
  {
   "cell_type": "code",
   "execution_count": 4,
   "id": "ca20b385",
   "metadata": {},
   "outputs": [
    {
     "name": "stdout",
     "output_type": "stream",
     "text": [
      "------------------------------------\n",
      "Tipus de dades\n",
      "Lect1-Sen1    int64\n",
      "Lect1-Sen2    int64\n",
      "Lect1-Sen3    int64\n",
      "Lect1-Sen4    int64\n",
      "Lect1-Sen5    int64\n",
      "              ...  \n",
      "Lect8-Sen5    int64\n",
      "Lect8-Sen6    int64\n",
      "Lect8-Sen7    int64\n",
      "Lect8-Sen8    int64\n",
      "Forma         int64\n",
      "Length: 65, dtype: object\n",
      "------------------------------------\n",
      "Eliminació 'NaN' del DataFrame\n",
      "Lect1-Sen1    0\n",
      "Lect1-Sen2    0\n",
      "Lect1-Sen3    0\n",
      "Lect1-Sen4    0\n",
      "Lect1-Sen5    0\n",
      "             ..\n",
      "Lect8-Sen5    0\n",
      "Lect8-Sen6    0\n",
      "Lect8-Sen7    0\n",
      "Lect8-Sen8    0\n",
      "Forma         0\n",
      "Length: 65, dtype: int64\n",
      "------------------------------------\n"
     ]
    }
   ],
   "source": [
    "def print_data_types(dataset):\n",
    "    print(\"------------------------------------\")\n",
    "    print(\"Tipus de dades\")\n",
    "    print(dataset.dtypes)\n",
    "    print(\"------------------------------------\")\n",
    "\n",
    "print_data_types(dataset)\n",
    "\n",
    "def nan(dataset):\n",
    "    print(\"Eliminació 'NaN' del DataFrame\")\n",
    "    print(dataset.isnull().sum())\n",
    "    print(\"------------------------------------\")\n",
    "\n",
    "nan(dataset)"
   ]
  },
  {
   "cell_type": "markdown",
   "id": "8ed6745a",
   "metadata": {},
   "source": [
    "\n",
    "\n",
    "Posteriorment analitzarem les distribucions dels atributs i correlacions, tan dels diferents atributs, com dels diferents atributs segons la classe a la que pertanyen. La correlació de Pearson en els casos de classificació no resulta molt rellevant, en el nostre cas no hi ha correlació entre els diferents atributs. \n",
    "Els histogrames ens permetràn veure si els atributs segueixen distribució normal, la qual cosa facilitarà el seu ús, podem dibuixar els histogrames per cada atribut i també els histogrames per cada atributs segons la classe a la que pertanyen."
   ]
  },
  {
   "cell_type": "code",
   "execution_count": null,
   "id": "dbcdd346",
   "metadata": {},
   "outputs": [],
   "source": []
  }
 ],
 "metadata": {
  "kernelspec": {
   "display_name": "Python 3 (ipykernel)",
   "language": "python",
   "name": "python3"
  },
  "language_info": {
   "codemirror_mode": {
    "name": "ipython",
    "version": 3
   },
   "file_extension": ".py",
   "mimetype": "text/x-python",
   "name": "python",
   "nbconvert_exporter": "python",
   "pygments_lexer": "ipython3",
   "version": "3.8.10"
  }
 },
 "nbformat": 4,
 "nbformat_minor": 5
}
